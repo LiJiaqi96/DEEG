{
 "cells": [
  {
   "cell_type": "markdown",
   "id": "amazing-relations",
   "metadata": {},
   "source": [
    "# Basic ML prediction with EEG features"
   ]
  },
  {
   "cell_type": "markdown",
   "id": "duplicate-price",
   "metadata": {},
   "source": [
    "In this tutorial, we'll introduce the following characteristics of DEEG package:  \n",
    "1. Data loading\n",
    "2. Quality check of dataset\n",
    "3. Signal banding (delta, theta, alpha, beta and gamma frequency bands)\n",
    "4. Feature extraction\n",
    "5. Prediction with machine learning models built by scikit-learn"
   ]
  },
  {
   "cell_type": "markdown",
   "id": "educated-conducting",
   "metadata": {},
   "source": [
    "**Step 1:** Load deeg and sklearn package, together necessary dependencies"
   ]
  },
  {
   "cell_type": "code",
   "execution_count": 1,
   "id": "cultural-jerusalem",
   "metadata": {},
   "outputs": [],
   "source": [
    "# !pip install deeg\n",
    "import deeg\n",
    "import sklearn\n",
    "import numpy as np"
   ]
  },
  {
   "cell_type": "markdown",
   "id": "chemical-sullivan",
   "metadata": {},
   "source": [
    "**Step 2:** Load dataset. Here we used commonly-used DEAP dataset as an example  \n",
    "After loading, the program will outout the shape of data and labels"
   ]
  },
  {
   "cell_type": "code",
   "execution_count": 6,
   "id": "utility-wells",
   "metadata": {},
   "outputs": [
    {
     "name": "stdout",
     "output_type": "stream",
     "text": [
      "Shape of data: (1240, 40, 8064)\n",
      "Shape of labels: (1240, 4)\n"
     ]
    }
   ],
   "source": [
    "# Specify the directory of your downloaded DEAP dataset below\n",
    "data_dir = \"/data1/ljq/datasets/EEG/DEAP/\"\n",
    "deap_dataset = deeg.load_DEAP(data_dir)\n",
    "deap_data, deap_label = deap_dataset[0], deap_dataset[1]"
   ]
  },
  {
   "cell_type": "markdown",
   "id": "exotic-currency",
   "metadata": {},
   "source": [
    "**Step 3:** Check whether the loaded dataset has missing values.  \n",
    "If missing value (NaN) occurs (\"check_result\" is not none), you may need to check your data."
   ]
  },
  {
   "cell_type": "code",
   "execution_count": 3,
   "id": "structured-craft",
   "metadata": {},
   "outputs": [
    {
     "name": "stdout",
     "output_type": "stream",
     "text": [
      "*** Data Quality Check ***\n",
      "True\n"
     ]
    }
   ],
   "source": [
    "check_result = deeg.process.data_quality_check(deap_data)\n",
    "print(check_result=={})"
   ]
  },
  {
   "cell_type": "markdown",
   "id": "pharmaceutical-decrease",
   "metadata": {},
   "source": [
    "**Step 4:** Filter temporal signal by several bands for further feature extraction  \n",
    "This step will return a dictionary with keys as band name, and values as filtered signal"
   ]
  },
  {
   "cell_type": "code",
   "execution_count": 15,
   "id": "victorian-alliance",
   "metadata": {},
   "outputs": [
    {
     "name": "stdout",
     "output_type": "stream",
     "text": [
      "(100, 40, 8064) (100, 4)\n"
     ]
    }
   ],
   "source": [
    "deap_data, deap_label = deap_data[:100, ...], deap_label[:100, ...]\n",
    "print(deap_data.shape, deap_label.shape)"
   ]
  },
  {
   "cell_type": "code",
   "execution_count": 16,
   "id": "touched-bicycle",
   "metadata": {},
   "outputs": [],
   "source": [
    "deap_bands = deeg.process.band(deap_data)"
   ]
  },
  {
   "cell_type": "markdown",
   "id": "thermal-drain",
   "metadata": {},
   "source": [
    "**Step 5:** Feature extraction  \n",
    "Extract commonly-used EEG features on all frequency bands"
   ]
  },
  {
   "cell_type": "code",
   "execution_count": 18,
   "id": "brief-robin",
   "metadata": {},
   "outputs": [
    {
     "name": "stdout",
     "output_type": "stream",
     "text": [
      "(100, 40, 1001) (100, 40, 1)\n",
      "(100, 40, 1001) (100, 40, 1)\n",
      "(100, 40, 1001) (100, 40, 1)\n",
      "(100, 40, 1001) (100, 40, 1)\n",
      "(100, 40, 1001) (100, 40, 1)\n",
      "(100, 40, 5025)\n"
     ]
    }
   ],
   "source": [
    "deap_features, names = deeg.features.cal_eeg_features(deap_bands[\"delta\"], sf=1000, ws=2000)\n",
    "for band in [\"theta\", \"alpha\", \"beta\", \"gamma\"]:\n",
    "    temp_features, names = deeg.features.cal_eeg_features(deap_bands[band], sf=1000, ws=2000)\n",
    "    deap_features = np.concatenate([deap_features, temp_features], axis=-1)\n",
    "print(deap_features.shape)"
   ]
  },
  {
   "cell_type": "markdown",
   "id": "bored-gathering",
   "metadata": {},
   "source": [
    "**Step 6:** Reshape the extracted features and corresponding labels to (samples, features/labels) format for ML operations"
   ]
  },
  {
   "cell_type": "code",
   "execution_count": 19,
   "id": "blocked-whale",
   "metadata": {},
   "outputs": [
    {
     "name": "stdout",
     "output_type": "stream",
     "text": [
      "[[ 2.24507164e-09  3.11940765e-07  3.03837908e-06 ...  2.65723488e-03\n",
      "   1.05805435e+01 -7.59288472e+00]\n",
      " [ 6.34293586e-07  4.16585084e-06  4.13876008e-05 ...  4.07333451e-03\n",
      "   2.54002987e+01 -7.78019837e+00]\n",
      " [ 2.75466318e-07  1.81367955e-06  1.75321840e-05 ...  3.08742616e-05\n",
      "   4.47279497e+00 -7.70771464e+00]\n",
      " ...\n",
      " [ 2.19018476e-06  1.62185397e-05  1.74806438e-04 ... -2.30126623e-03\n",
      "   3.67409821e+00 -7.64874794e+00]\n",
      " [ 2.73488689e-07  1.79152229e-06  1.85823390e-05 ...  8.68680725e-04\n",
      "   1.21490870e+01 -7.42536039e+00]\n",
      " [ 1.36297845e-06  1.02303531e-05  1.11483876e-04 ... -1.92467443e-03\n",
      "   6.84929673e+00 -7.64153889e+00]]\n"
     ]
    }
   ],
   "source": [
    "deap_features = deap_features.reshape(deap_features.shape[0], -1)\n",
    "print(deap_features.shape)"
   ]
  },
  {
   "cell_type": "markdown",
   "id": "standard-suffering",
   "metadata": {},
   "source": [
    "**Step 7:** Emotion prediction by ML models built by scikit-learn  \n",
    "Including train-test split, training and evaluation processes  \n",
    "For the convenience of illustration, we binarized the 9-level labels in to 0(1-4) and 1(5-9)"
   ]
  },
  {
   "cell_type": "code",
   "execution_count": 29,
   "id": "thousand-disorder",
   "metadata": {},
   "outputs": [],
   "source": [
    "from sklearn.model_selection import train_test_split\n",
    "\n",
    "deap_label = (deap_label>=5).astype(\"int\")\n",
    "X_train, X_test, y_train, y_test = train_test_split(deap_features, deap_label, test_size=0.33, random_state=0)"
   ]
  },
  {
   "cell_type": "code",
   "execution_count": 33,
   "id": "warming-rapid",
   "metadata": {},
   "outputs": [
    {
     "data": {
      "text/plain": [
       "0.6363636363636364"
      ]
     },
     "execution_count": 33,
     "metadata": {},
     "output_type": "execute_result"
    }
   ],
   "source": [
    "from sklearn.svm import SVC\n",
    "\n",
    "model = SVC(kernel=\"rbf\")\n",
    "model.fit(X_train, y_train[:,0])\n",
    "model.score(X_test, y_test[:,0])"
   ]
  }
 ],
 "metadata": {
  "kernelspec": {
   "display_name": "Python 3 (ipykernel)",
   "language": "python",
   "name": "python3"
  },
  "language_info": {
   "codemirror_mode": {
    "name": "ipython",
    "version": 3
   },
   "file_extension": ".py",
   "mimetype": "text/x-python",
   "name": "python",
   "nbconvert_exporter": "python",
   "pygments_lexer": "ipython3",
   "version": "3.8.1"
  }
 },
 "nbformat": 4,
 "nbformat_minor": 5
}
