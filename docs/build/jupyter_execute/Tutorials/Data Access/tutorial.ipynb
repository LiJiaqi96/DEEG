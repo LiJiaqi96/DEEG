{
 "cells": [
  {
   "cell_type": "code",
   "execution_count": 1,
   "id": "5d7308ce",
   "metadata": {
    "execution": {
     "iopub.execute_input": "2021-08-07T03:43:05.848469Z",
     "iopub.status.busy": "2021-08-07T03:43:05.847352Z",
     "iopub.status.idle": "2021-08-07T03:44:01.900888Z",
     "shell.execute_reply": "2021-08-07T03:44:01.901422Z"
    }
   },
   "outputs": [
    {
     "name": "stdout",
     "output_type": "stream",
     "text": [
      "Data shape: (1045, 14, 512)\n"
     ]
    }
   ],
   "source": [
    "import deeg\n",
    "import os\n",
    "\n",
    "path = os.path.abspath('.') + '/Data-EEG-25-users-Neuromarketing/'\n",
    "data, labels = deeg.load_NeuroMarketing(path)\n",
    "print(\"Data shape: {}\".format(data.shape))"
   ]
  },
  {
   "cell_type": "code",
   "execution_count": 2,
   "id": "26431dc9",
   "metadata": {
    "execution": {
     "iopub.execute_input": "2021-08-07T03:44:01.907053Z",
     "iopub.status.busy": "2021-08-07T03:44:01.906072Z",
     "iopub.status.idle": "2021-08-07T03:44:01.925442Z",
     "shell.execute_reply": "2021-08-07T03:44:01.925974Z"
    }
   },
   "outputs": [],
   "source": [
    "import deeg\n",
    "import os\n",
    "\n",
    "path = os.path.abspath('.') + '/data.csv'\n",
    "data = deeg.load_data(path)"
   ]
  }
 ],
 "metadata": {
  "kernelspec": {
   "display_name": "Python 3 (ipykernel)",
   "language": "python",
   "name": "python3"
  },
  "language_info": {
   "codemirror_mode": {
    "name": "ipython",
    "version": 3
   },
   "file_extension": ".py",
   "mimetype": "text/x-python",
   "name": "python",
   "nbconvert_exporter": "python",
   "pygments_lexer": "ipython3",
   "version": "3.8.1"
  }
 },
 "nbformat": 4,
 "nbformat_minor": 5
}