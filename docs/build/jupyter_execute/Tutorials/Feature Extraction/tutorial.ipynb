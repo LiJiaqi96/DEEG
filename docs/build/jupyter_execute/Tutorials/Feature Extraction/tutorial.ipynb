{
 "cells": [
  {
   "cell_type": "code",
   "execution_count": 1,
   "id": "5aedcdbf",
   "metadata": {
    "execution": {
     "iopub.execute_input": "2021-08-07T04:04:47.301829Z",
     "iopub.status.busy": "2021-08-07T04:04:47.300336Z",
     "iopub.status.idle": "2021-08-07T04:06:06.559209Z",
     "shell.execute_reply": "2021-08-07T04:06:06.559784Z"
    }
   },
   "outputs": [
    {
     "name": "stdout",
     "output_type": "stream",
     "text": [
      "Original data shape: (1045, 14, 512)\n",
      "Data shape after kurtosis feature extraction: (1045, 14)\n",
      "Data shape after skewness feature extraction: (1045, 14)\n",
      "Data shape after mean absolute deviation feature extraction: (1045, 14)\n"
     ]
    }
   ],
   "source": [
    "import deeg\n",
    "import os\n",
    "\n",
    "path = os.path.abspath('.') + '/Data-EEG-25-users-Neuromarketing/'\n",
    "data, labels = deeg.load_NeuroMarketing(path)\n",
    "data_Kurt = deeg.features.kurtosis(data)\n",
    "data_Skew = deeg.features.skewness(data)\n",
    "data_MAD = deeg.features.mean_absolute_deviation(data)\n",
    "print(\"Original data shape: {}\".format(data.shape))\n",
    "print(\"Data shape after kurtosis feature extraction: {}\".format(data_Kurt.shape))\n",
    "print(\"Data shape after skewness feature extraction: {}\".format(data_Skew.shape))\n",
    "print(\"Data shape after mean absolute deviation feature extraction: {}\".format(data_MAD.shape))"
   ]
  },
  {
   "cell_type": "code",
   "execution_count": 2,
   "id": "72ecd834",
   "metadata": {
    "execution": {
     "iopub.execute_input": "2021-08-07T04:06:06.566362Z",
     "iopub.status.busy": "2021-08-07T04:06:06.564863Z",
     "iopub.status.idle": "2021-08-07T04:07:03.761103Z",
     "shell.execute_reply": "2021-08-07T04:07:03.761665Z"
    }
   },
   "outputs": [
    {
     "name": "stdout",
     "output_type": "stream",
     "text": [
      "Original data shape: (1045, 14, 512)\n",
      "Data shape after differential entropy feature extraction: (1045, 14)\n"
     ]
    }
   ],
   "source": [
    "import deeg\n",
    "import os\n",
    "\n",
    "path = os.path.abspath('.') + '/Data-EEG-25-users-Neuromarketing/'\n",
    "data, labels = deeg.load_NeuroMarketing(path)\n",
    "data_DE = deeg.features.differential_entropy(data)\n",
    "print(\"Original data shape: {}\".format(data.shape))\n",
    "print(\"Data shape after differential entropy feature extraction: {}\".format(data_DE.shape))"
   ]
  },
  {
   "cell_type": "code",
   "execution_count": 3,
   "id": "187779d6",
   "metadata": {
    "execution": {
     "iopub.execute_input": "2021-08-07T04:07:03.768739Z",
     "iopub.status.busy": "2021-08-07T04:07:03.767600Z",
     "iopub.status.idle": "2021-08-07T04:10:38.300644Z",
     "shell.execute_reply": "2021-08-07T04:10:38.301461Z"
    }
   },
   "outputs": [
    {
     "name": "stdout",
     "output_type": "stream",
     "text": [
      "Original data shape of delta band: (1045, 14, 512)\n",
      "Data shape of delta band after feature extraction: (1045, 14, 5)\n"
     ]
    },
    {
     "name": "stdout",
     "output_type": "stream",
     "text": [
      "Original data shape of theta band: (1045, 14, 512)\n",
      "Data shape of theta band after feature extraction: (1045, 14, 5)\n"
     ]
    },
    {
     "name": "stdout",
     "output_type": "stream",
     "text": [
      "Original data shape of alpha band: (1045, 14, 512)\n",
      "Data shape of alpha band after feature extraction: (1045, 14, 5)\n"
     ]
    },
    {
     "name": "stdout",
     "output_type": "stream",
     "text": [
      "Original data shape of beta band: (1045, 14, 512)\n",
      "Data shape of beta band after feature extraction: (1045, 14, 5)\n"
     ]
    },
    {
     "name": "stdout",
     "output_type": "stream",
     "text": [
      "Original data shape of gamma band: (1045, 14, 512)\n",
      "Data shape of gamma band after feature extraction: (1045, 14, 5)\n"
     ]
    }
   ],
   "source": [
    "import deeg\n",
    "import os\n",
    "\n",
    "path = os.path.abspath('.') + '/Data-EEG-25-users-Neuromarketing/'\n",
    "data, labels = deeg.load_NeuroMarketing(path)\n",
    "data_band = deeg.process.band(data)\n",
    "data_PSD = dict()\n",
    "for band in data_band:\n",
    "    data_PSD[band] = deeg.features.power_spectral_density(data_band[band], 128, 256)\n",
    "    print(\"Original data shape of {} band: {}\".format(band, data_band[band].shape))\n",
    "    print(\"Data shape of {} band after feature extraction: {}\".format(band, data_PSD[band].shape))"
   ]
  },
  {
   "cell_type": "code",
   "execution_count": 4,
   "id": "063fab59",
   "metadata": {
    "execution": {
     "iopub.execute_input": "2021-08-07T04:10:38.308545Z",
     "iopub.status.busy": "2021-08-07T04:10:38.307204Z",
     "iopub.status.idle": "2021-08-07T04:11:35.077203Z",
     "shell.execute_reply": "2021-08-07T04:11:35.077772Z"
    }
   },
   "outputs": [
    {
     "name": "stdout",
     "output_type": "stream",
     "text": [
      "Original data shape: (1045, 14, 512)\n",
      "Data shape after feature extraction: (1045, 7)\n"
     ]
    }
   ],
   "source": [
    "import deeg\n",
    "import os\n",
    "\n",
    "path = os.path.abspath('.') + '/Data-EEG-25-users-Neuromarketing/'\n",
    "data, labels = deeg.load_NeuroMarketing(path)\n",
    "channel_name = ['AF3', 'F7', 'F3', 'FC5', 'T7', 'P7', 'O1', 'O2', 'P8', 'T8', 'FC6', 'F4', 'F8', 'AF4']\n",
    "data_DASM = deeg.features.differential_asymmetry(data, channel_name)\n",
    "print(\"Original data shape: {}\".format(data.shape))\n",
    "print(\"Data shape after feature extraction: {}\".format(data_DASM.shape))"
   ]
  }
 ],
 "metadata": {
  "kernelspec": {
   "display_name": "Python 3 (ipykernel)",
   "language": "python",
   "name": "python3"
  },
  "language_info": {
   "codemirror_mode": {
    "name": "ipython",
    "version": 3
   },
   "file_extension": ".py",
   "mimetype": "text/x-python",
   "name": "python",
   "nbconvert_exporter": "python",
   "pygments_lexer": "ipython3",
   "version": "3.8.1"
  }
 },
 "nbformat": 4,
 "nbformat_minor": 5
}